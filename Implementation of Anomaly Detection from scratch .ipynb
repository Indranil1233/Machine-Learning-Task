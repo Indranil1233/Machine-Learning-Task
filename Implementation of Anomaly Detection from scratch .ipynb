{
 "cells": [
  {
   "cell_type": "code",
   "execution_count": null,
   "id": "db83c8cb",
   "metadata": {},
   "outputs": [],
   "source": []
  },
  {
   "cell_type": "code",
   "execution_count": null,
   "id": "a7bedb4f",
   "metadata": {},
   "outputs": [],
   "source": [
    "import csv\n",
    "import numpy as np\n",
    "\n",
    "class AnomalyDetector:\n",
    "    def __init__(self, threshold=3):\n",
    "        self.threshold = threshold\n",
    "    \n",
    "    def fit(self, X):\n",
    "        n_samples = len(X)\n",
    "        n_features = len(X[0])\n",
    "        self.mean = [0] * n_features\n",
    "        self.std = [0] * n_features\n",
    "\n",
    "        for j in range(n_features):\n",
    "            column_values = [X[i][j] for i in range(n_samples)]\n",
    "            self.mean[j] = sum(column_values) / n_samples\n",
    "            self.std[j] = np.sqrt(sum((x - self.mean[j]) ** 2 for x in column_values) / n_samples)\n",
    "    \n",
    "    def detect_anomalies(self, X):\n",
    "        is_anomaly = []\n",
    "        for x in X:\n",
    "            z_scores = []\n",
    "            for j, value in enumerate(x):\n",
    "                z_score = abs((value - self.mean[j]) / self.std[j])\n",
    "                z_scores.append(z_score)\n",
    "            is_anomaly.append(any(z_score > self.threshold for z_score in z_scores))\n",
    "        return is_anomaly\n",
    "\n",
    "\n",
    "data = []\n",
    "with open(\"xyz.csv\", \"r\") as file:\n",
    "    csv_reader = csv.reader(file)\n",
    "    for row in csv_reader:\n",
    "        data.append([float(value) for value in row])\n",
    "\n",
    "\n",
    "X = np.array(data)\n",
    "\n",
    "detector = AnomalyDetector()\n",
    "\n",
    "detector.fit(X)\n",
    "\n",
    "\n",
    "is_anomaly = detector.detect_anomalies(X)\n",
    "\n",
    "print(\"Indices of anomalies:\")\n",
    "print(np.where(is_anomaly)[0])\n"
   ]
  },
  {
   "cell_type": "code",
   "execution_count": null,
   "id": "d9b9dec4",
   "metadata": {},
   "outputs": [],
   "source": []
  },
  {
   "cell_type": "code",
   "execution_count": null,
   "id": "cfa7bcfd",
   "metadata": {},
   "outputs": [],
   "source": []
  },
  {
   "cell_type": "code",
   "execution_count": null,
   "id": "8e4afe67",
   "metadata": {},
   "outputs": [],
   "source": []
  },
  {
   "cell_type": "code",
   "execution_count": null,
   "id": "76102e12",
   "metadata": {},
   "outputs": [],
   "source": []
  },
  {
   "cell_type": "code",
   "execution_count": null,
   "id": "710418fd",
   "metadata": {},
   "outputs": [],
   "source": []
  },
  {
   "cell_type": "code",
   "execution_count": null,
   "id": "2505c8eb",
   "metadata": {},
   "outputs": [],
   "source": []
  },
  {
   "cell_type": "code",
   "execution_count": null,
   "id": "338c0a5d",
   "metadata": {},
   "outputs": [],
   "source": []
  },
  {
   "cell_type": "code",
   "execution_count": null,
   "id": "4126e4b0",
   "metadata": {},
   "outputs": [],
   "source": []
  },
  {
   "cell_type": "code",
   "execution_count": null,
   "id": "36730605",
   "metadata": {},
   "outputs": [],
   "source": []
  },
  {
   "cell_type": "code",
   "execution_count": null,
   "id": "258c3969",
   "metadata": {},
   "outputs": [],
   "source": []
  },
  {
   "cell_type": "code",
   "execution_count": null,
   "id": "1c7f1d48",
   "metadata": {},
   "outputs": [],
   "source": []
  },
  {
   "cell_type": "code",
   "execution_count": null,
   "id": "3e4948ce",
   "metadata": {},
   "outputs": [],
   "source": []
  },
  {
   "cell_type": "code",
   "execution_count": null,
   "id": "8784c91d",
   "metadata": {},
   "outputs": [],
   "source": []
  },
  {
   "cell_type": "code",
   "execution_count": null,
   "id": "e72fab33",
   "metadata": {},
   "outputs": [],
   "source": []
  }
 ],
 "metadata": {
  "kernelspec": {
   "display_name": "Python 3 (ipykernel)",
   "language": "python",
   "name": "python3"
  },
  "language_info": {
   "codemirror_mode": {
    "name": "ipython",
    "version": 3
   },
   "file_extension": ".py",
   "mimetype": "text/x-python",
   "name": "python",
   "nbconvert_exporter": "python",
   "pygments_lexer": "ipython3",
   "version": "3.9.7"
  }
 },
 "nbformat": 4,
 "nbformat_minor": 5
}
