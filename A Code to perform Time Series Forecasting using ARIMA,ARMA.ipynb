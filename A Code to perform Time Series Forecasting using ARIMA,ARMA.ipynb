{
 "cells": [
  {
   "cell_type": "code",
   "execution_count": null,
   "id": "8ca22968",
   "metadata": {},
   "outputs": [],
   "source": [
    "ARIMA, ARMA , SARIMA are tried in here"
   ]
  },
  {
   "cell_type": "code",
   "execution_count": 1,
   "id": "6732659f",
   "metadata": {},
   "outputs": [],
   "source": [
    "import datetime\n",
    "import pandas as pd\n",
    "import numpy as np\n",
    "from sklearn.linear_model import LinearRegression\n",
    "import matplotlib.pyplot as plt\n",
    "import seaborn as sns"
   ]
  },
  {
   "cell_type": "code",
   "execution_count": 2,
   "id": "c4364361",
   "metadata": {},
   "outputs": [],
   "source": [
    "pd.set_option('display.max_columns', None)\n",
    "pd.set_option('display.max_rows', 10)"
   ]
  },
  {
   "cell_type": "code",
   "execution_count": 3,
   "id": "74ebfd29",
   "metadata": {},
   "outputs": [
    {
     "name": "stderr",
     "output_type": "stream",
     "text": [
      "C:\\Users\\LENOVO\\AppData\\Local\\Temp/ipykernel_10948/967972931.py:2: FutureWarning: The pandas.datetime class is deprecated and will be removed from pandas in a future version. Import from datetime module instead.\n",
      "  dateparse= lambda dates: pd.datetime.strptime(dates,'%d-%m-%Y')\n"
     ]
    }
   ],
   "source": [
    "dateparse= lambda dates: pd.datetime.strptime(dates,'%d-%m-%Y')\n",
    "data=pd.read_csv('Continuous_data.csv',parse_dates=['Date'],date_parser=dateparse,usecols=['Date','India Price'])"
   ]
  },
  {
   "cell_type": "code",
   "execution_count": 4,
   "id": "24bcd3c1",
   "metadata": {},
   "outputs": [
    {
     "data": {
      "text/html": [
       "<div>\n",
       "<style scoped>\n",
       "    .dataframe tbody tr th:only-of-type {\n",
       "        vertical-align: middle;\n",
       "    }\n",
       "\n",
       "    .dataframe tbody tr th {\n",
       "        vertical-align: top;\n",
       "    }\n",
       "\n",
       "    .dataframe thead th {\n",
       "        text-align: right;\n",
       "    }\n",
       "</style>\n",
       "<table border=\"1\" class=\"dataframe\">\n",
       "  <thead>\n",
       "    <tr style=\"text-align: right;\">\n",
       "      <th></th>\n",
       "      <th>Date</th>\n",
       "      <th>India Price</th>\n",
       "    </tr>\n",
       "  </thead>\n",
       "  <tbody>\n",
       "    <tr>\n",
       "      <th>0</th>\n",
       "      <td>2005-10-07</td>\n",
       "      <td>240.0</td>\n",
       "    </tr>\n",
       "    <tr>\n",
       "      <th>1</th>\n",
       "      <td>2005-10-14</td>\n",
       "      <td>240.0</td>\n",
       "    </tr>\n",
       "    <tr>\n",
       "      <th>2</th>\n",
       "      <td>2005-10-21</td>\n",
       "      <td>242.5</td>\n",
       "    </tr>\n",
       "    <tr>\n",
       "      <th>3</th>\n",
       "      <td>2005-10-28</td>\n",
       "      <td>242.5</td>\n",
       "    </tr>\n",
       "    <tr>\n",
       "      <th>4</th>\n",
       "      <td>2005-11-04</td>\n",
       "      <td>250.0</td>\n",
       "    </tr>\n",
       "  </tbody>\n",
       "</table>\n",
       "</div>"
      ],
      "text/plain": [
       "        Date  India Price\n",
       "0 2005-10-07        240.0\n",
       "1 2005-10-14        240.0\n",
       "2 2005-10-21        242.5\n",
       "3 2005-10-28        242.5\n",
       "4 2005-11-04        250.0"
      ]
     },
     "execution_count": 4,
     "metadata": {},
     "output_type": "execute_result"
    }
   ],
   "source": [
    "data.head()"
   ]
  },
  {
   "cell_type": "code",
   "execution_count": 5,
   "id": "9e30d6f4",
   "metadata": {},
   "outputs": [
    {
     "data": {
      "text/plain": [
       "Date           datetime64[ns]\n",
       "India Price           float64\n",
       "dtype: object"
      ]
     },
     "execution_count": 5,
     "metadata": {},
     "output_type": "execute_result"
    }
   ],
   "source": [
    "data.dtypes"
   ]
  },
  {
   "cell_type": "code",
   "execution_count": 6,
   "id": "1d66cea2",
   "metadata": {},
   "outputs": [],
   "source": [
    "data.index=pd.to_datetime(data['Date'],format='%d-%m-%Y')"
   ]
  },
  {
   "cell_type": "code",
   "execution_count": 7,
   "id": "cef94ab3",
   "metadata": {},
   "outputs": [
    {
     "data": {
      "text/html": [
       "<div>\n",
       "<style scoped>\n",
       "    .dataframe tbody tr th:only-of-type {\n",
       "        vertical-align: middle;\n",
       "    }\n",
       "\n",
       "    .dataframe tbody tr th {\n",
       "        vertical-align: top;\n",
       "    }\n",
       "\n",
       "    .dataframe thead th {\n",
       "        text-align: right;\n",
       "    }\n",
       "</style>\n",
       "<table border=\"1\" class=\"dataframe\">\n",
       "  <thead>\n",
       "    <tr style=\"text-align: right;\">\n",
       "      <th></th>\n",
       "      <th>Date</th>\n",
       "      <th>India Price</th>\n",
       "    </tr>\n",
       "    <tr>\n",
       "      <th>Date</th>\n",
       "      <th></th>\n",
       "      <th></th>\n",
       "    </tr>\n",
       "  </thead>\n",
       "  <tbody>\n",
       "    <tr>\n",
       "      <th>2005-10-07</th>\n",
       "      <td>2005-10-07</td>\n",
       "      <td>240.0</td>\n",
       "    </tr>\n",
       "    <tr>\n",
       "      <th>2005-10-14</th>\n",
       "      <td>2005-10-14</td>\n",
       "      <td>240.0</td>\n",
       "    </tr>\n",
       "    <tr>\n",
       "      <th>2005-10-21</th>\n",
       "      <td>2005-10-21</td>\n",
       "      <td>242.5</td>\n",
       "    </tr>\n",
       "    <tr>\n",
       "      <th>2005-10-28</th>\n",
       "      <td>2005-10-28</td>\n",
       "      <td>242.5</td>\n",
       "    </tr>\n",
       "    <tr>\n",
       "      <th>2005-11-04</th>\n",
       "      <td>2005-11-04</td>\n",
       "      <td>250.0</td>\n",
       "    </tr>\n",
       "  </tbody>\n",
       "</table>\n",
       "</div>"
      ],
      "text/plain": [
       "                 Date  India Price\n",
       "Date                              \n",
       "2005-10-07 2005-10-07        240.0\n",
       "2005-10-14 2005-10-14        240.0\n",
       "2005-10-21 2005-10-21        242.5\n",
       "2005-10-28 2005-10-28        242.5\n",
       "2005-11-04 2005-11-04        250.0"
      ]
     },
     "execution_count": 7,
     "metadata": {},
     "output_type": "execute_result"
    }
   ],
   "source": [
    "data.head()"
   ]
  },
  {
   "cell_type": "code",
   "execution_count": 8,
   "id": "3d469060",
   "metadata": {},
   "outputs": [
    {
     "data": {
      "text/plain": [
       "DatetimeIndex(['2005-10-07', '2005-10-14', '2005-10-21', '2005-10-28',\n",
       "               '2005-11-04', '2005-11-11', '2005-11-18', '2005-11-25',\n",
       "               '2005-12-02', '2005-12-09',\n",
       "               ...\n",
       "               '2021-02-19', '2021-02-26', '2021-03-05', '2021-03-12',\n",
       "               '2021-03-19', '2021-03-26', '2021-04-02', '2021-04-09',\n",
       "               '2021-04-16', '2021-04-23'],\n",
       "              dtype='datetime64[ns]', name='Date', length=796, freq=None)"
      ]
     },
     "execution_count": 8,
     "metadata": {},
     "output_type": "execute_result"
    }
   ],
   "source": [
    "data.index"
   ]
  },
  {
   "cell_type": "code",
   "execution_count": null,
   "id": "6a31c4f4",
   "metadata": {},
   "outputs": [],
   "source": []
  },
  {
   "cell_type": "code",
   "execution_count": 9,
   "id": "13bbd941",
   "metadata": {},
   "outputs": [],
   "source": [
    "del data['Date']"
   ]
  },
  {
   "cell_type": "code",
   "execution_count": 10,
   "id": "b5c69044",
   "metadata": {},
   "outputs": [
    {
     "data": {
      "text/plain": [
       "[<matplotlib.lines.Line2D at 0x22f37c15d90>]"
      ]
     },
     "execution_count": 10,
     "metadata": {},
     "output_type": "execute_result"
    },
    {
     "data": {
      "image/png": "[encoded data removed]",
      "text/plain": [
       "<Figure size 432x288 with 1 Axes>"
      ]
     },
     "metadata": {
      "needs_background": "light"
     },
     "output_type": "display_data"
    }
   ],
   "source": [
    "plt.plot(data.index, data['India Price'] )"
   ]
  },
  {
   "cell_type": "code",
   "execution_count": 11,
   "id": "91360351",
   "metadata": {},
   "outputs": [],
   "source": [
    "from statsmodels.tsa.seasonal import seasonal_decompose\n",
    "decomposition=seasonal_decompose(data,period=1)"
   ]
  },
  {
   "cell_type": "code",
   "execution_count": 12,
   "id": "e7eb0938",
   "metadata": {},
   "outputs": [],
   "source": [
    "trend=decomposition.trend\n",
    "seasonal=decomposition.seasonal\n",
    "residual=decomposition.resid"
   ]
  },
  {
   "cell_type": "code",
   "execution_count": 13,
   "id": "03c9cc46",
   "metadata": {},
   "outputs": [
    {
     "data": {
      "image/png": "[encoded data removed]",
      "text/plain": [
       "<Figure size 432x288 with 4 Axes>"
      ]
     },
     "metadata": {
      "needs_background": "light"
     },
     "output_type": "display_data"
    }
   ],
   "source": [
    "plt.subplot(411)\n",
    "plt.plot(data,label='Original')\n",
    "plt.legend(loc='best')\n",
    "plt.subplot(412)\n",
    "plt.plot(trend,label='Trend')\n",
    "plt.legend(loc='best')\n",
    "plt.subplot(413)\n",
    "plt.plot(seasonal,label='Seasonal')\n",
    "plt.legend(loc='best')\n",
    "plt.subplot(414)\n",
    "plt.plot(residual,label='Residual')\n",
    "plt.legend(loc='best')\n",
    "plt.tight_layout()"
   ]
  },
  {
   "cell_type": "code",
   "execution_count": null,
   "id": "0e705ba9",
   "metadata": {},
   "outputs": [],
   "source": []
  },
  {
   "cell_type": "code",
   "execution_count": null,
   "id": "9a7edd4d",
   "metadata": {},
   "outputs": [],
   "source": []
  },
  {
   "cell_type": "code",
   "execution_count": null,
   "id": "87a34a7f",
   "metadata": {},
   "outputs": [],
   "source": []
  },
  {
   "cell_type": "code",
   "execution_count": 14,
   "id": "6389df5d",
   "metadata": {},
   "outputs": [],
   "source": [
    "from statsmodels.tsa.stattools import adfuller"
   ]
  },
  {
   "cell_type": "code",
   "execution_count": 15,
   "id": "f32f6662",
   "metadata": {},
   "outputs": [
    {
     "name": "stdout",
     "output_type": "stream",
     "text": [
      "p-value: 0.00013187182416350931\n"
     ]
    }
   ],
   "source": [
    "adftest=adfuller(data)\n",
    "print(\"p-value:\",adftest[1])"
   ]
  },
  {
   "cell_type": "code",
   "execution_count": 16,
   "id": "91cad5d0",
   "metadata": {},
   "outputs": [],
   "source": [
    " train=data[data.index<pd.to_datetime(\"01-11-2018\",format='%d-%m-%Y')]\n",
    " test=data[data.index>pd.to_datetime(\"01-11-2018\",format='%d-%m-%Y')]"
   ]
  },
  {
   "cell_type": "code",
   "execution_count": null,
   "id": "f4d2954d",
   "metadata": {},
   "outputs": [],
   "source": []
  },
  {
   "cell_type": "code",
   "execution_count": 17,
   "id": "39a1ba9c",
   "metadata": {},
   "outputs": [
    {
     "data": {
      "text/plain": [
       "670"
      ]
     },
     "execution_count": 17,
     "metadata": {},
     "output_type": "execute_result"
    }
   ],
   "source": [
    "len(train)"
   ]
  },
  {
   "cell_type": "code",
   "execution_count": 18,
   "id": "b4f71d40",
   "metadata": {},
   "outputs": [
    {
     "data": {
      "text/html": [
       "<div>\n",
       "<style scoped>\n",
       "    .dataframe tbody tr th:only-of-type {\n",
       "        vertical-align: middle;\n",
       "    }\n",
       "\n",
       "    .dataframe tbody tr th {\n",
       "        vertical-align: top;\n",
       "    }\n",
       "\n",
       "    .dataframe thead th {\n",
       "        text-align: right;\n",
       "    }\n",
       "</style>\n",
       "<table border=\"1\" class=\"dataframe\">\n",
       "  <thead>\n",
       "    <tr style=\"text-align: right;\">\n",
       "      <th></th>\n",
       "      <th>India Price</th>\n",
       "    </tr>\n",
       "    <tr>\n",
       "      <th>Date</th>\n",
       "      <th></th>\n",
       "    </tr>\n",
       "  </thead>\n",
       "  <tbody>\n",
       "    <tr>\n",
       "      <th>2005-10-07</th>\n",
       "      <td>240.0</td>\n",
       "    </tr>\n",
       "    <tr>\n",
       "      <th>2005-10-14</th>\n",
       "      <td>240.0</td>\n",
       "    </tr>\n",
       "    <tr>\n",
       "      <th>2005-10-21</th>\n",
       "      <td>242.5</td>\n",
       "    </tr>\n",
       "    <tr>\n",
       "      <th>2005-10-28</th>\n",
       "      <td>242.5</td>\n",
       "    </tr>\n",
       "    <tr>\n",
       "      <th>2005-11-04</th>\n",
       "      <td>250.0</td>\n",
       "    </tr>\n",
       "  </tbody>\n",
       "</table>\n",
       "</div>"
      ],
      "text/plain": [
       "            India Price\n",
       "Date                   \n",
       "2005-10-07        240.0\n",
       "2005-10-14        240.0\n",
       "2005-10-21        242.5\n",
       "2005-10-28        242.5\n",
       "2005-11-04        250.0"
      ]
     },
     "execution_count": 18,
     "metadata": {},
     "output_type": "execute_result"
    }
   ],
   "source": [
    "train.head()"
   ]
  },
  {
   "cell_type": "code",
   "execution_count": 19,
   "id": "c503aa97",
   "metadata": {},
   "outputs": [
    {
     "data": {
      "text/html": [
       "<div>\n",
       "<style scoped>\n",
       "    .dataframe tbody tr th:only-of-type {\n",
       "        vertical-align: middle;\n",
       "    }\n",
       "\n",
       "    .dataframe tbody tr th {\n",
       "        vertical-align: top;\n",
       "    }\n",
       "\n",
       "    .dataframe thead th {\n",
       "        text-align: right;\n",
       "    }\n",
       "</style>\n",
       "<table border=\"1\" class=\"dataframe\">\n",
       "  <thead>\n",
       "    <tr style=\"text-align: right;\">\n",
       "      <th></th>\n",
       "      <th>India Price</th>\n",
       "    </tr>\n",
       "    <tr>\n",
       "      <th>Date</th>\n",
       "      <th></th>\n",
       "    </tr>\n",
       "  </thead>\n",
       "  <tbody>\n",
       "    <tr>\n",
       "      <th>2018-11-02</th>\n",
       "      <td>430.0</td>\n",
       "    </tr>\n",
       "    <tr>\n",
       "      <th>2018-11-09</th>\n",
       "      <td>390.0</td>\n",
       "    </tr>\n",
       "    <tr>\n",
       "      <th>2018-11-16</th>\n",
       "      <td>340.0</td>\n",
       "    </tr>\n",
       "    <tr>\n",
       "      <th>2018-11-23</th>\n",
       "      <td>284.0</td>\n",
       "    </tr>\n",
       "    <tr>\n",
       "      <th>2018-11-30</th>\n",
       "      <td>267.0</td>\n",
       "    </tr>\n",
       "  </tbody>\n",
       "</table>\n",
       "</div>"
      ],
      "text/plain": [
       "            India Price\n",
       "Date                   \n",
       "2018-11-02        430.0\n",
       "2018-11-09        390.0\n",
       "2018-11-16        340.0\n",
       "2018-11-23        284.0\n",
       "2018-11-30        267.0"
      ]
     },
     "execution_count": 19,
     "metadata": {},
     "output_type": "execute_result"
    }
   ],
   "source": [
    "test.head()"
   ]
  },
  {
   "cell_type": "code",
   "execution_count": 20,
   "id": "54d0fec1",
   "metadata": {},
   "outputs": [
    {
     "data": {
      "image/png": "[encoded data removed]",
      "text/plain": [
       "<Figure size 432x288 with 1 Axes>"
      ]
     },
     "metadata": {
      "needs_background": "light"
     },
     "output_type": "display_data"
    }
   ],
   "source": [
    "plt.plot(train,color='black')\n",
    "plt.plot(test,color='red')\n",
    "plt.xlabel('Date')\n",
    "plt.ylabel('Price in Rs.')\n",
    "plt.title('Train/Test Splitting for Methanol Data')\n",
    "plt.show()"
   ]
  },
  {
   "cell_type": "code",
   "execution_count": 21,
   "id": "ce225340",
   "metadata": {},
   "outputs": [],
   "source": [
    "from statsmodels.tsa.arima_model import ARIMA\n",
    "from statsmodels.graphics.tsaplots import plot_acf,plot_pacf"
   ]
  },
  {
   "cell_type": "code",
   "execution_count": 22,
   "id": "6f31954d",
   "metadata": {},
   "outputs": [
    {
     "data": {
      "image/png": "[encoded data removed]",
      "text/plain": [
       "<Figure size 432x288 with 1 Axes>"
      ]
     },
     "metadata": {
      "needs_background": "light"
     },
     "output_type": "display_data"
    }
   ],
   "source": [
    "acf_plot=plot_acf(train,lags=10) "
   ]
  },
  {
   "cell_type": "code",
   "execution_count": 23,
   "id": "c108ae86",
   "metadata": {},
   "outputs": [
    {
     "data": {
      "image/png": "[encoded data removed]",
      "text/plain": [
       "<Figure size 432x288 with 1 Axes>"
      ]
     },
     "metadata": {
      "needs_background": "light"
     },
     "output_type": "display_data"
    }
   ],
   "source": [
    "pacf_plot=plot_pacf(train) "
   ]
  },
  {
   "cell_type": "code",
   "execution_count": 24,
   "id": "949836d2",
   "metadata": {},
   "outputs": [
    {
     "name": "stderr",
     "output_type": "stream",
     "text": [
      "C:\\Users\\LENOVO\\anaconda3\\lib\\site-packages\\statsmodels\\tsa\\arima_model.py:472: FutureWarning: \n",
      "statsmodels.tsa.arima_model.ARMA and statsmodels.tsa.arima_model.ARIMA have\n",
      "been deprecated in favor of statsmodels.tsa.arima.model.ARIMA (note the .\n",
      "between arima and model) and\n",
      "statsmodels.tsa.SARIMAX. These will be removed after the 0.12 release.\n",
      "\n",
      "statsmodels.tsa.arima.model.ARIMA makes use of the statespace framework and\n",
      "is both well tested and maintained.\n",
      "\n",
      "To silence this warning and continue using ARMA and ARIMA until they are\n",
      "removed, use:\n",
      "\n",
      "import warnings\n",
      "warnings.filterwarnings('ignore', 'statsmodels.tsa.arima_model.ARMA',\n",
      "                        FutureWarning)\n",
      "warnings.filterwarnings('ignore', 'statsmodels.tsa.arima_model.ARIMA',\n",
      "                        FutureWarning)\n",
      "\n",
      "  warnings.warn(ARIMA_DEPRECATION_WARN, FutureWarning)\n",
      "C:\\Users\\LENOVO\\anaconda3\\lib\\site-packages\\statsmodels\\tsa\\base\\tsa_model.py:581: ValueWarning: A date index has been provided, but it has no associated frequency information and so will be ignored when e.g. forecasting.\n",
      "  warnings.warn('A date index has been provided, but it has no'\n",
      "C:\\Users\\LENOVO\\anaconda3\\lib\\site-packages\\statsmodels\\tsa\\base\\tsa_model.py:376: ValueWarning: No supported index is available. Prediction results will be given with an integer index beginning at `start`.\n",
      "  warnings.warn('No supported index is available.'\n"
     ]
    }
   ],
   "source": [
    "\n",
    "ARIMAmodel = ARIMA(train, order = (1, 0, 1))\n",
    "ARIMAmodel = ARIMAmodel.fit()\n",
    "pred_arima=ARIMAmodel.predict(start=len(train),end=(len(data)-1))\n",
    "pred_arima.index=test.index"
   ]
  },
  {
   "cell_type": "code",
   "execution_count": 25,
   "id": "de263737",
   "metadata": {},
   "outputs": [
    {
     "data": {
      "text/plain": [
       "Date\n",
       "2018-11-02    445.935067\n",
       "2018-11-09    443.232471\n",
       "2018-11-16    440.586258\n",
       "2018-11-23    437.995250\n",
       "2018-11-30    435.458296\n",
       "dtype: float64"
      ]
     },
     "execution_count": 25,
     "metadata": {},
     "output_type": "execute_result"
    }
   ],
   "source": [
    "pred_arima.head()"
   ]
  },
  {
   "cell_type": "code",
   "execution_count": 26,
   "id": "0133fe9b",
   "metadata": {},
   "outputs": [
    {
     "data": {
      "text/plain": [
       "[<matplotlib.lines.Line2D at 0x22f3935a0a0>]"
      ]
     },
     "execution_count": 26,
     "metadata": {},
     "output_type": "execute_result"
    },
    {
     "data": {
      "image/png": "[encoded data removed]",
      "text/plain": [
       "<Figure size 432x288 with 1 Axes>"
      ]
     },
     "metadata": {
      "needs_background": "light"
     },
     "output_type": "display_data"
    }
   ],
   "source": [
    "plt.plot(test)"
   ]
  },
  {
   "cell_type": "code",
   "execution_count": 27,
   "id": "9ebcf363",
   "metadata": {},
   "outputs": [
    {
     "data": {
      "text/plain": [
       "141.5166483664307"
      ]
     },
     "execution_count": 27,
     "metadata": {},
     "output_type": "execute_result"
    }
   ],
   "source": [
    "from sklearn.metrics import mean_squared_error\n",
    "error_arima=np.sqrt(mean_squared_error(test,pred_arima))\n",
    "error_arima"
   ]
  },
  {
   "cell_type": "code",
   "execution_count": 28,
   "id": "f3c96dbf",
   "metadata": {},
   "outputs": [
    {
     "data": {
      "text/plain": [
       "pandas.core.frame.DataFrame"
      ]
     },
     "execution_count": 28,
     "metadata": {},
     "output_type": "execute_result"
    }
   ],
   "source": [
    "type(data)"
   ]
  },
  {
   "cell_type": "code",
   "execution_count": 29,
   "id": "c5f199f4",
   "metadata": {},
   "outputs": [
    {
     "data": {
      "text/plain": [
       "(India Price    229.130952\n",
       " dtype: float64,\n",
       " India Price    56.932387\n",
       " dtype: float64)"
      ]
     },
     "execution_count": 29,
     "metadata": {},
     "output_type": "execute_result"
    }
   ],
   "source": [
    "test.mean(),np.sqrt(test.var())"
   ]
  },
  {
   "cell_type": "code",
   "execution_count": 30,
   "id": "d8915232",
   "metadata": {},
   "outputs": [
    {
     "data": {
      "text/plain": [
       "Date\n",
       "2018-11-02    430.0\n",
       "2018-11-09    390.0\n",
       "2018-11-16    340.0\n",
       "2018-11-23    284.0\n",
       "2018-11-30    267.0\n",
       "              ...  \n",
       "2021-03-26    274.0\n",
       "2021-04-02    274.0\n",
       "2021-04-09    276.0\n",
       "2021-04-16    275.0\n",
       "2021-04-23    275.0\n",
       "Name: India Price, Length: 126, dtype: float64"
      ]
     },
     "execution_count": 30,
     "metadata": {},
     "output_type": "execute_result"
    }
   ],
   "source": [
    "test['India Price']"
   ]
  },
  {
   "cell_type": "code",
   "execution_count": null,
   "id": "2486394c",
   "metadata": {},
   "outputs": [],
   "source": []
  },
  {
   "cell_type": "code",
   "execution_count": null,
   "id": "9fac7b5a",
   "metadata": {},
   "outputs": [],
   "source": []
  },
  {
   "cell_type": "code",
   "execution_count": null,
   "id": "5c0c69d4",
   "metadata": {},
   "outputs": [],
   "source": []
  },
  {
   "cell_type": "code",
   "execution_count": 31,
   "id": "7a64c787",
   "metadata": {},
   "outputs": [],
   "source": [
    "df=pd.DataFrame({'Actual Values':test['India Price'],'Forecast Price':pred_arima})"
   ]
  },
  {
   "cell_type": "code",
   "execution_count": 32,
   "id": "20ead103",
   "metadata": {},
   "outputs": [
    {
     "data": {
      "text/plain": [
       "pandas.core.frame.DataFrame"
      ]
     },
     "execution_count": 32,
     "metadata": {},
     "output_type": "execute_result"
    }
   ],
   "source": [
    "type(test)"
   ]
  },
  {
   "cell_type": "code",
   "execution_count": 33,
   "id": "f516004f",
   "metadata": {},
   "outputs": [
    {
     "data": {
      "text/plain": [
       "pandas.core.series.Series"
      ]
     },
     "execution_count": 33,
     "metadata": {},
     "output_type": "execute_result"
    }
   ],
   "source": [
    "type(pred_arima)"
   ]
  },
  {
   "cell_type": "code",
   "execution_count": 34,
   "id": "452b974b",
   "metadata": {},
   "outputs": [
    {
     "data": {
      "text/plain": [
       "Date\n",
       "2018-11-02    445.935067\n",
       "2018-11-09    443.232471\n",
       "2018-11-16    440.586258\n",
       "2018-11-23    437.995250\n",
       "2018-11-30    435.458296\n",
       "                 ...    \n",
       "2021-03-26    326.494448\n",
       "2021-04-02    326.283641\n",
       "2021-04-09    326.077232\n",
       "2021-04-16    325.875129\n",
       "2021-04-23    325.677242\n",
       "Length: 126, dtype: float64"
      ]
     },
     "execution_count": 34,
     "metadata": {},
     "output_type": "execute_result"
    }
   ],
   "source": [
    "pred_arima"
   ]
  },
  {
   "cell_type": "code",
   "execution_count": 35,
   "id": "39ee8069",
   "metadata": {},
   "outputs": [
    {
     "data": {
      "text/html": [
       "<div>\n",
       "<style scoped>\n",
       "    .dataframe tbody tr th:only-of-type {\n",
       "        vertical-align: middle;\n",
       "    }\n",
       "\n",
       "    .dataframe tbody tr th {\n",
       "        vertical-align: top;\n",
       "    }\n",
       "\n",
       "    .dataframe thead th {\n",
       "        text-align: right;\n",
       "    }\n",
       "</style>\n",
       "<table border=\"1\" class=\"dataframe\">\n",
       "  <thead>\n",
       "    <tr style=\"text-align: right;\">\n",
       "      <th></th>\n",
       "      <th>India Price</th>\n",
       "    </tr>\n",
       "    <tr>\n",
       "      <th>Date</th>\n",
       "      <th></th>\n",
       "    </tr>\n",
       "  </thead>\n",
       "  <tbody>\n",
       "    <tr>\n",
       "      <th>2018-11-02</th>\n",
       "      <td>430.0</td>\n",
       "    </tr>\n",
       "    <tr>\n",
       "      <th>2018-11-09</th>\n",
       "      <td>390.0</td>\n",
       "    </tr>\n",
       "    <tr>\n",
       "      <th>2018-11-16</th>\n",
       "      <td>340.0</td>\n",
       "    </tr>\n",
       "    <tr>\n",
       "      <th>2018-11-23</th>\n",
       "      <td>284.0</td>\n",
       "    </tr>\n",
       "    <tr>\n",
       "      <th>2018-11-30</th>\n",
       "      <td>267.0</td>\n",
       "    </tr>\n",
       "  </tbody>\n",
       "</table>\n",
       "</div>"
      ],
      "text/plain": [
       "            India Price\n",
       "Date                   \n",
       "2018-11-02        430.0\n",
       "2018-11-09        390.0\n",
       "2018-11-16        340.0\n",
       "2018-11-23        284.0\n",
       "2018-11-30        267.0"
      ]
     },
     "execution_count": 35,
     "metadata": {},
     "output_type": "execute_result"
    }
   ],
   "source": [
    "test.head()"
   ]
  },
  {
   "cell_type": "code",
   "execution_count": null,
   "id": "3419f25f",
   "metadata": {},
   "outputs": [],
   "source": []
  },
  {
   "cell_type": "code",
   "execution_count": 36,
   "id": "7aafd1af",
   "metadata": {},
   "outputs": [
    {
     "data": {
      "image/png": "[encoded data removed]",
      "text/plain": [
       "<Figure size 432x288 with 1 Axes>"
      ]
     },
     "metadata": {
      "needs_background": "light"
     },
     "output_type": "display_data"
    }
   ],
   "source": [
    "plt.plot(data,color='black')\n",
    "plt.plot(test,color='red')\n",
    "plt.plot(pred_arima,color='green')\n",
    "plt.xlabel('Date')\n",
    "plt.ylabel('Price in Rs.')\n",
    "plt.title('Train/Test and Predicted for Methanol Data')\n",
    "plt.show()"
   ]
  },
  {
   "cell_type": "code",
   "execution_count": null,
   "id": "bc3f1457",
   "metadata": {},
   "outputs": [],
   "source": []
  },
  {
   "cell_type": "code",
   "execution_count": 37,
   "id": "729c9dba",
   "metadata": {},
   "outputs": [
    {
     "data": {
      "text/html": [
       "<div>\n",
       "<style scoped>\n",
       "    .dataframe tbody tr th:only-of-type {\n",
       "        vertical-align: middle;\n",
       "    }\n",
       "\n",
       "    .dataframe tbody tr th {\n",
       "        vertical-align: top;\n",
       "    }\n",
       "\n",
       "    .dataframe thead th {\n",
       "        text-align: right;\n",
       "    }\n",
       "</style>\n",
       "<table border=\"1\" class=\"dataframe\">\n",
       "  <thead>\n",
       "    <tr style=\"text-align: right;\">\n",
       "      <th></th>\n",
       "      <th>Actual Values</th>\n",
       "      <th>Forecast Price</th>\n",
       "    </tr>\n",
       "    <tr>\n",
       "      <th>Date</th>\n",
       "      <th></th>\n",
       "      <th></th>\n",
       "    </tr>\n",
       "  </thead>\n",
       "  <tbody>\n",
       "    <tr>\n",
       "      <th>2018-11-02</th>\n",
       "      <td>430.0</td>\n",
       "      <td>445.935067</td>\n",
       "    </tr>\n",
       "    <tr>\n",
       "      <th>2018-11-09</th>\n",
       "      <td>390.0</td>\n",
       "      <td>443.232471</td>\n",
       "    </tr>\n",
       "    <tr>\n",
       "      <th>2018-11-16</th>\n",
       "      <td>340.0</td>\n",
       "      <td>440.586258</td>\n",
       "    </tr>\n",
       "    <tr>\n",
       "      <th>2018-11-23</th>\n",
       "      <td>284.0</td>\n",
       "      <td>437.995250</td>\n",
       "    </tr>\n",
       "    <tr>\n",
       "      <th>2018-11-30</th>\n",
       "      <td>267.0</td>\n",
       "      <td>435.458296</td>\n",
       "    </tr>\n",
       "    <tr>\n",
       "      <th>...</th>\n",
       "      <td>...</td>\n",
       "      <td>...</td>\n",
       "    </tr>\n",
       "    <tr>\n",
       "      <th>2021-03-26</th>\n",
       "      <td>274.0</td>\n",
       "      <td>326.494448</td>\n",
       "    </tr>\n",
       "    <tr>\n",
       "      <th>2021-04-02</th>\n",
       "      <td>274.0</td>\n",
       "      <td>326.283641</td>\n",
       "    </tr>\n",
       "    <tr>\n",
       "      <th>2021-04-09</th>\n",
       "      <td>276.0</td>\n",
       "      <td>326.077232</td>\n",
       "    </tr>\n",
       "    <tr>\n",
       "      <th>2021-04-16</th>\n",
       "      <td>275.0</td>\n",
       "      <td>325.875129</td>\n",
       "    </tr>\n",
       "    <tr>\n",
       "      <th>2021-04-23</th>\n",
       "      <td>275.0</td>\n",
       "      <td>325.677242</td>\n",
       "    </tr>\n",
       "  </tbody>\n",
       "</table>\n",
       "<p>126 rows × 2 columns</p>\n",
       "</div>"
      ],
      "text/plain": [
       "            Actual Values  Forecast Price\n",
       "Date                                     \n",
       "2018-11-02          430.0      445.935067\n",
       "2018-11-09          390.0      443.232471\n",
       "2018-11-16          340.0      440.586258\n",
       "2018-11-23          284.0      437.995250\n",
       "2018-11-30          267.0      435.458296\n",
       "...                   ...             ...\n",
       "2021-03-26          274.0      326.494448\n",
       "2021-04-02          274.0      326.283641\n",
       "2021-04-09          276.0      326.077232\n",
       "2021-04-16          275.0      325.875129\n",
       "2021-04-23          275.0      325.677242\n",
       "\n",
       "[126 rows x 2 columns]"
      ]
     },
     "execution_count": 37,
     "metadata": {},
     "output_type": "execute_result"
    }
   ],
   "source": [
    "df"
   ]
  },
  {
   "cell_type": "code",
   "execution_count": 38,
   "id": "c39d5615",
   "metadata": {},
   "outputs": [],
   "source": [
    "from statsmodels.tsa.statespace.sarimax import SARIMAX"
   ]
  },
  {
   "cell_type": "code",
   "execution_count": 39,
   "id": "d490744a",
   "metadata": {},
   "outputs": [],
   "source": [
    "y = train['India Price']"
   ]
  },
  {
   "cell_type": "code",
   "execution_count": 40,
   "id": "b2fcea5b",
   "metadata": {},
   "outputs": [
    {
     "name": "stderr",
     "output_type": "stream",
     "text": [
      "C:\\Users\\LENOVO\\anaconda3\\lib\\site-packages\\statsmodels\\tsa\\base\\tsa_model.py:581: ValueWarning: A date index has been provided, but it has no associated frequency information and so will be ignored when e.g. forecasting.\n",
      "  warnings.warn('A date index has been provided, but it has no'\n",
      "C:\\Users\\LENOVO\\anaconda3\\lib\\site-packages\\statsmodels\\tsa\\base\\tsa_model.py:581: ValueWarning: A date index has been provided, but it has no associated frequency information and so will be ignored when e.g. forecasting.\n",
      "  warnings.warn('A date index has been provided, but it has no'\n"
     ]
    }
   ],
   "source": [
    "ARMAmodel = SARIMAX(y, order = (1, 0, 1))"
   ]
  },
  {
   "cell_type": "code",
   "execution_count": 41,
   "id": "fbd50d51",
   "metadata": {},
   "outputs": [
    {
     "name": "stderr",
     "output_type": "stream",
     "text": [
      "C:\\Users\\LENOVO\\anaconda3\\lib\\site-packages\\statsmodels\\tsa\\base\\tsa_model.py:376: ValueWarning: No supported index is available. Prediction results will be given with an integer index beginning at `start`.\n",
      "  warnings.warn('No supported index is available.'\n"
     ]
    }
   ],
   "source": [
    "ARMAmodel = ARMAmodel.fit()\n",
    "pred_arma=ARMAmodel.predict(start=len(train),end=(len(data)-1))\n",
    "pred_arma.index=test.index"
   ]
  },
  {
   "cell_type": "code",
   "execution_count": 42,
   "id": "f8a0d67d",
   "metadata": {},
   "outputs": [
    {
     "data": {
      "text/plain": [
       "Date\n",
       "2018-11-02    447.521175\n",
       "2018-11-09    446.880395\n",
       "2018-11-16    446.240532\n",
       "2018-11-23    445.601585\n",
       "2018-11-30    444.963553\n",
       "Name: predicted_mean, dtype: float64"
      ]
     },
     "execution_count": 42,
     "metadata": {},
     "output_type": "execute_result"
    }
   ],
   "source": [
    "pred_arma.head()"
   ]
  },
  {
   "cell_type": "code",
   "execution_count": 43,
   "id": "f03d2f60",
   "metadata": {},
   "outputs": [
    {
     "data": {
      "text/plain": [
       "188.14862820999238"
      ]
     },
     "execution_count": 43,
     "metadata": {},
     "output_type": "execute_result"
    }
   ],
   "source": [
    "from sklearn.metrics import mean_squared_error\n",
    "error_arma=np.sqrt(mean_squared_error(test,pred_arma))\n",
    "error_arma"
   ]
  },
  {
   "cell_type": "code",
   "execution_count": 44,
   "id": "73035f3f",
   "metadata": {},
   "outputs": [],
   "source": [
    "df=pd.DataFrame({'Actual Values':test['India Price'],'Forecast Price':pred_arma})"
   ]
  },
  {
   "cell_type": "code",
   "execution_count": 46,
   "id": "6b6e656c",
   "metadata": {},
   "outputs": [
    {
     "data": {
      "image/png": "[encoded data removed]",
      "text/plain": [
       "<Figure size 432x288 with 1 Axes>"
      ]
     },
     "metadata": {
      "needs_background": "light"
     },
     "output_type": "display_data"
    }
   ],
   "source": [
    "\n",
    "plt.plot(train,color='black')\n",
    "plt.plot(test,color='red')\n",
    "plt.plot(pred_arma,color='green')\n",
    "plt.xlabel('Date')\n",
    "plt.ylabel('Price in Rs.')\n",
    "plt.title('Train/Test and Predicted for Methanol Data')\n",
    "plt.show()"
   ]
  },
  {
   "cell_type": "code",
   "execution_count": 47,
   "id": "98285592",
   "metadata": {},
   "outputs": [
    {
     "data": {
      "text/html": [
       "<div>\n",
       "<style scoped>\n",
       "    .dataframe tbody tr th:only-of-type {\n",
       "        vertical-align: middle;\n",
       "    }\n",
       "\n",
       "    .dataframe tbody tr th {\n",
       "        vertical-align: top;\n",
       "    }\n",
       "\n",
       "    .dataframe thead th {\n",
       "        text-align: right;\n",
       "    }\n",
       "</style>\n",
       "<table border=\"1\" class=\"dataframe\">\n",
       "  <thead>\n",
       "    <tr style=\"text-align: right;\">\n",
       "      <th></th>\n",
       "      <th>Actual Values</th>\n",
       "      <th>Forecast Price</th>\n",
       "    </tr>\n",
       "    <tr>\n",
       "      <th>Date</th>\n",
       "      <th></th>\n",
       "      <th></th>\n",
       "    </tr>\n",
       "  </thead>\n",
       "  <tbody>\n",
       "    <tr>\n",
       "      <th>2018-11-02</th>\n",
       "      <td>430.0</td>\n",
       "      <td>447.521175</td>\n",
       "    </tr>\n",
       "    <tr>\n",
       "      <th>2018-11-09</th>\n",
       "      <td>390.0</td>\n",
       "      <td>446.880395</td>\n",
       "    </tr>\n",
       "    <tr>\n",
       "      <th>2018-11-16</th>\n",
       "      <td>340.0</td>\n",
       "      <td>446.240532</td>\n",
       "    </tr>\n",
       "    <tr>\n",
       "      <th>2018-11-23</th>\n",
       "      <td>284.0</td>\n",
       "      <td>445.601585</td>\n",
       "    </tr>\n",
       "    <tr>\n",
       "      <th>2018-11-30</th>\n",
       "      <td>267.0</td>\n",
       "      <td>444.963553</td>\n",
       "    </tr>\n",
       "    <tr>\n",
       "      <th>...</th>\n",
       "      <td>...</td>\n",
       "      <td>...</td>\n",
       "    </tr>\n",
       "    <tr>\n",
       "      <th>2021-03-26</th>\n",
       "      <td>274.0</td>\n",
       "      <td>376.284914</td>\n",
       "    </tr>\n",
       "    <tr>\n",
       "      <th>2021-04-02</th>\n",
       "      <td>274.0</td>\n",
       "      <td>375.746133</td>\n",
       "    </tr>\n",
       "    <tr>\n",
       "      <th>2021-04-09</th>\n",
       "      <td>276.0</td>\n",
       "      <td>375.208123</td>\n",
       "    </tr>\n",
       "    <tr>\n",
       "      <th>2021-04-16</th>\n",
       "      <td>275.0</td>\n",
       "      <td>374.670884</td>\n",
       "    </tr>\n",
       "    <tr>\n",
       "      <th>2021-04-23</th>\n",
       "      <td>275.0</td>\n",
       "      <td>374.134414</td>\n",
       "    </tr>\n",
       "  </tbody>\n",
       "</table>\n",
       "<p>126 rows × 2 columns</p>\n",
       "</div>"
      ],
      "text/plain": [
       "            Actual Values  Forecast Price\n",
       "Date                                     \n",
       "2018-11-02          430.0      447.521175\n",
       "2018-11-09          390.0      446.880395\n",
       "2018-11-16          340.0      446.240532\n",
       "2018-11-23          284.0      445.601585\n",
       "2018-11-30          267.0      444.963553\n",
       "...                   ...             ...\n",
       "2021-03-26          274.0      376.284914\n",
       "2021-04-02          274.0      375.746133\n",
       "2021-04-09          276.0      375.208123\n",
       "2021-04-16          275.0      374.670884\n",
       "2021-04-23          275.0      374.134414\n",
       "\n",
       "[126 rows x 2 columns]"
      ]
     },
     "execution_count": 47,
     "metadata": {},
     "output_type": "execute_result"
    }
   ],
   "source": [
    "df"
   ]
  },
  {
   "cell_type": "code",
   "execution_count": 48,
   "id": "a950c108",
   "metadata": {},
   "outputs": [],
   "source": [
    "rollmean=data.rolling(window=4).mean()\n",
    "rollstd=data.rolling(window=4).std()"
   ]
  },
  {
   "cell_type": "code",
   "execution_count": 49,
   "id": "74265038",
   "metadata": {},
   "outputs": [
    {
     "data": {
      "image/png": "[encoded data removed]",
      "text/plain": [
       "<Figure size 432x288 with 1 Axes>"
      ]
     },
     "metadata": {
      "needs_background": "light"
     },
     "output_type": "display_data"
    }
   ],
   "source": [
    "original=plt.plot(data,color='blue',label='ORIGINAL')\n",
    "mean=plt.plot(rollmean,color='red',label='ROLLING MEAN')\n",
    "std=plt.plot(rollstd,color='black',label='ROLLING STANDARD DEVIATION')\n",
    "plt.legend(loc='best') # LOCATION OF THE LEGEND\n",
    "plt.title('Rolling Mean and Standard Deviation')\n",
    "plt.show(block=False)"
   ]
  },
  {
   "cell_type": "code",
   "execution_count": 50,
   "id": "317658d7",
   "metadata": {},
   "outputs": [
    {
     "name": "stderr",
     "output_type": "stream",
     "text": [
      "C:\\Users\\LENOVO\\anaconda3\\lib\\site-packages\\statsmodels\\tsa\\base\\tsa_model.py:581: ValueWarning: A date index has been provided, but it has no associated frequency information and so will be ignored when e.g. forecasting.\n",
      "  warnings.warn('A date index has been provided, but it has no'\n",
      "C:\\Users\\LENOVO\\anaconda3\\lib\\site-packages\\statsmodels\\tsa\\base\\tsa_model.py:581: ValueWarning: A date index has been provided, but it has no associated frequency information and so will be ignored when e.g. forecasting.\n",
      "  warnings.warn('A date index has been provided, but it has no'\n"
     ]
    }
   ],
   "source": [
    "import statsmodels.api as sm\n",
    "sarima_model=sm.tsa.statespace.SARIMAX(train,order=(1,2,1),seasonal_order=(1,2,1,12),enforce_stationary=True).fit()"
   ]
  },
  {
   "cell_type": "code",
   "execution_count": 51,
   "id": "6d916ffd",
   "metadata": {},
   "outputs": [
    {
     "name": "stderr",
     "output_type": "stream",
     "text": [
      "C:\\Users\\LENOVO\\anaconda3\\lib\\site-packages\\statsmodels\\tsa\\base\\tsa_model.py:376: ValueWarning: No supported index is available. Prediction results will be given with an integer index beginning at `start`.\n",
      "  warnings.warn('No supported index is available.'\n"
     ]
    }
   ],
   "source": [
    "pred_sarima=sarima_model.predict(start=len(train),end=(len(data)-1))\n",
    "pred_sarima.index=test.index"
   ]
  },
  {
   "cell_type": "code",
   "execution_count": 52,
   "id": "7e51cd8c",
   "metadata": {},
   "outputs": [
    {
     "data": {
      "text/plain": [
       "Date\n",
       "2018-11-02    454.711532\n",
       "2018-11-09    467.045554\n",
       "2018-11-16    472.931751\n",
       "2018-11-23    479.791980\n",
       "2018-11-30    493.730391\n",
       "Name: predicted_mean, dtype: float64"
      ]
     },
     "execution_count": 52,
     "metadata": {},
     "output_type": "execute_result"
    }
   ],
   "source": [
    "pred_sarima.head()"
   ]
  },
  {
   "cell_type": "code",
   "execution_count": 53,
   "id": "17b1f614",
   "metadata": {},
   "outputs": [],
   "source": [
    "df=pd.DataFrame({'Actual Values':test['India Price'],'Forecast Price':pred_sarima})"
   ]
  },
  {
   "cell_type": "code",
   "execution_count": 54,
   "id": "1ff46693",
   "metadata": {},
   "outputs": [
    {
     "data": {
      "text/plain": [
       "3345.02925804711"
      ]
     },
     "execution_count": 54,
     "metadata": {},
     "output_type": "execute_result"
    }
   ],
   "source": [
    "from sklearn.metrics import mean_squared_error\n",
    "error_sarima=np.sqrt(mean_squared_error(test,pred_sarima))\n",
    "error_sarima"
   ]
  },
  {
   "cell_type": "code",
   "execution_count": 55,
   "id": "ebce8506",
   "metadata": {},
   "outputs": [
    {
     "data": {
      "text/html": [
       "<div>\n",
       "<style scoped>\n",
       "    .dataframe tbody tr th:only-of-type {\n",
       "        vertical-align: middle;\n",
       "    }\n",
       "\n",
       "    .dataframe tbody tr th {\n",
       "        vertical-align: top;\n",
       "    }\n",
       "\n",
       "    .dataframe thead th {\n",
       "        text-align: right;\n",
       "    }\n",
       "</style>\n",
       "<table border=\"1\" class=\"dataframe\">\n",
       "  <thead>\n",
       "    <tr style=\"text-align: right;\">\n",
       "      <th></th>\n",
       "      <th>Actual Values</th>\n",
       "      <th>Forecast Price</th>\n",
       "    </tr>\n",
       "    <tr>\n",
       "      <th>Date</th>\n",
       "      <th></th>\n",
       "      <th></th>\n",
       "    </tr>\n",
       "  </thead>\n",
       "  <tbody>\n",
       "    <tr>\n",
       "      <th>2018-11-02</th>\n",
       "      <td>430.0</td>\n",
       "      <td>454.711532</td>\n",
       "    </tr>\n",
       "    <tr>\n",
       "      <th>2018-11-09</th>\n",
       "      <td>390.0</td>\n",
       "      <td>467.045554</td>\n",
       "    </tr>\n",
       "    <tr>\n",
       "      <th>2018-11-16</th>\n",
       "      <td>340.0</td>\n",
       "      <td>472.931751</td>\n",
       "    </tr>\n",
       "    <tr>\n",
       "      <th>2018-11-23</th>\n",
       "      <td>284.0</td>\n",
       "      <td>479.791980</td>\n",
       "    </tr>\n",
       "    <tr>\n",
       "      <th>2018-11-30</th>\n",
       "      <td>267.0</td>\n",
       "      <td>493.730391</td>\n",
       "    </tr>\n",
       "    <tr>\n",
       "      <th>...</th>\n",
       "      <td>...</td>\n",
       "      <td>...</td>\n",
       "    </tr>\n",
       "    <tr>\n",
       "      <th>2021-03-26</th>\n",
       "      <td>274.0</td>\n",
       "      <td>6803.061422</td>\n",
       "    </tr>\n",
       "    <tr>\n",
       "      <th>2021-04-02</th>\n",
       "      <td>274.0</td>\n",
       "      <td>6891.831692</td>\n",
       "    </tr>\n",
       "    <tr>\n",
       "      <th>2021-04-09</th>\n",
       "      <td>276.0</td>\n",
       "      <td>6983.262095</td>\n",
       "    </tr>\n",
       "    <tr>\n",
       "      <th>2021-04-16</th>\n",
       "      <td>275.0</td>\n",
       "      <td>7077.895660</td>\n",
       "    </tr>\n",
       "    <tr>\n",
       "      <th>2021-04-23</th>\n",
       "      <td>275.0</td>\n",
       "      <td>7172.997548</td>\n",
       "    </tr>\n",
       "  </tbody>\n",
       "</table>\n",
       "<p>126 rows × 2 columns</p>\n",
       "</div>"
      ],
      "text/plain": [
       "            Actual Values  Forecast Price\n",
       "Date                                     \n",
       "2018-11-02          430.0      454.711532\n",
       "2018-11-09          390.0      467.045554\n",
       "2018-11-16          340.0      472.931751\n",
       "2018-11-23          284.0      479.791980\n",
       "2018-11-30          267.0      493.730391\n",
       "...                   ...             ...\n",
       "2021-03-26          274.0     6803.061422\n",
       "2021-04-02          274.0     6891.831692\n",
       "2021-04-09          276.0     6983.262095\n",
       "2021-04-16          275.0     7077.895660\n",
       "2021-04-23          275.0     7172.997548\n",
       "\n",
       "[126 rows x 2 columns]"
      ]
     },
     "execution_count": 55,
     "metadata": {},
     "output_type": "execute_result"
    }
   ],
   "source": [
    "df"
   ]
  },
  {
   "cell_type": "code",
   "execution_count": 56,
   "id": "70175a24",
   "metadata": {},
   "outputs": [
    {
     "data": {
      "image/png": "[encoded data removed]",
      "text/plain": [
       "<Figure size 432x288 with 1 Axes>"
      ]
     },
     "metadata": {
      "needs_background": "light"
     },
     "output_type": "display_data"
    }
   ],
   "source": [
    "plt.plot(train,label='Train',color='black')\n",
    "plt.plot(test,label='Test',color='red')\n",
    "plt.plot(pred_sarima,label='pred_sarima',color='green')\n",
    "plt.legend()\n",
    "plt.xlabel('Date')\n",
    "plt.ylabel('Price in Rs.')\n",
    "plt.title('Train/Test and Predicted for Methanol Data')\n",
    "plt.show()"
   ]
  },
  {
   "cell_type": "code",
   "execution_count": 57,
   "id": "650fb5dc",
   "metadata": {},
   "outputs": [
    {
     "data": {
      "image/png": "[encoded data removed]",
      "text/plain": [
       "<Figure size 432x288 with 1 Axes>"
      ]
     },
     "metadata": {
      "needs_background": "light"
     },
     "output_type": "display_data"
    }
   ],
   "source": [
    "plt.plot(train,label='Train',color='black')\n",
    "plt.plot(test,label='Test',color='red')\n",
    "plt.plot(pred_arima,label='Arima prediction',color='orange')\n",
    "plt.plot(pred_arma,label='Arma prediction',color='green')\n",
    "plt.plot(pred_sarima,label='Sarima prediction',color='blue')\n",
    "plt.legend()\n",
    "plt.xlabel('Date')\n",
    "plt.ylabel('Price in Rs.')\n",
    "plt.title('Train/Test and Predicted for Methanol Data')\n",
    "plt.show()"
   ]
  },
  {
   "cell_type": "code",
   "execution_count": 58,
   "id": "87acb727",
   "metadata": {},
   "outputs": [
    {
     "name": "stdout",
     "output_type": "stream",
     "text": [
      "141.5166483664307\n"
     ]
    }
   ],
   "source": [
    "print(error_arima)"
   ]
  },
  {
   "cell_type": "code",
   "execution_count": null,
   "id": "bdf9e643",
   "metadata": {},
   "outputs": [],
   "source": []
  },
  {
   "cell_type": "code",
   "execution_count": 62,
   "id": "4043975d",
   "metadata": {},
   "outputs": [
    {
     "name": "stdout",
     "output_type": "stream",
     "text": [
      "188.14862820999238\n",
      "3345.02925804711\n"
     ]
    }
   ],
   "source": [
    "print(error_arma)\n",
    "print(error_sarima)"
   ]
  },
  {
   "cell_type": "code",
   "execution_count": null,
   "id": "12dd8f0d",
   "metadata": {},
   "outputs": [],
   "source": []
  },
  {
   "cell_type": "code",
   "execution_count": null,
   "id": "a230b9db",
   "metadata": {},
   "outputs": [],
   "source": []
  },
  {
   "cell_type": "code",
   "execution_count": null,
   "id": "4900dfe9",
   "metadata": {},
   "outputs": [],
   "source": []
  },
  {
   "cell_type": "code",
   "execution_count": null,
   "id": "fe5a302d",
   "metadata": {},
   "outputs": [],
   "source": []
  },
  {
   "cell_type": "code",
   "execution_count": null,
   "id": "87a18f74",
   "metadata": {},
   "outputs": [],
   "source": []
  },
  {
   "cell_type": "code",
   "execution_count": null,
   "id": "8bd23fe8",
   "metadata": {},
   "outputs": [],
   "source": []
  },
  {
   "cell_type": "code",
   "execution_count": null,
   "id": "52b47b79",
   "metadata": {},
   "outputs": [],
   "source": []
  },
  {
   "cell_type": "code",
   "execution_count": null,
   "id": "0e9399e2",
   "metadata": {},
   "outputs": [],
   "source": []
  },
  {
   "cell_type": "code",
   "execution_count": null,
   "id": "002317de",
   "metadata": {},
   "outputs": [],
   "source": []
  },
  {
   "cell_type": "code",
   "execution_count": null,
   "id": "6b971b58",
   "metadata": {},
   "outputs": [],
   "source": []
  }
 ],
 "metadata": {
  "kernelspec": {
   "display_name": "Python 3 (ipykernel)",
   "language": "python",
   "name": "python3"
  },
  "language_info": {
   "codemirror_mode": {
    "name": "ipython",
    "version": 3
   },
   "file_extension": ".py",
   "mimetype": "text/x-python",
   "name": "python",
   "nbconvert_exporter": "python",
   "pygments_lexer": "ipython3",
   "version": "3.9.7"
  }
 },
 "nbformat": 4,
 "nbformat_minor": 5
}
