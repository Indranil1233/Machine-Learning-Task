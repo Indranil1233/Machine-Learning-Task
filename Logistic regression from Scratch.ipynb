{
 "cells": [
  {
   "cell_type": "markdown",
   "id": "967e0027",
   "metadata": {},
   "source": [
    "# Implementation of Logistic regression from scratch"
   ]
  },
  {
   "cell_type": "code",
   "execution_count": 24,
   "id": "e858561c",
   "metadata": {},
   "outputs": [],
   "source": [
    "import numpy as np\n",
    "import pandas as pd\n",
    "import matplotlib.pyplot as plt\n"
   ]
  },
  {
   "cell_type": "code",
   "execution_count": 25,
   "id": "ae23c205",
   "metadata": {},
   "outputs": [
    {
     "name": "stdout",
     "output_type": "stream",
     "text": [
      "(50000, 15) (50000,)\n"
     ]
    }
   ],
   "source": [
    "x, y = make_classification(n_samples=50000, n_features=15, n_informative=10, n_redundant=5,\n",
    "                           n_classes=2, weights=[0.7], class_sep=0.7, random_state=15)\n",
    "\n",
    "print(x.shape, y.shape)"
   ]
  },
  {
   "cell_type": "code",
   "execution_count": 26,
   "id": "ecc15b97",
   "metadata": {},
   "outputs": [],
   "source": [
    "X_train, X_test, y_train, y_test = train_test_split(x, y, test_size=0.25, random_state=15)"
   ]
  },
  {
   "cell_type": "code",
   "execution_count": 27,
   "id": "4ec67ef1",
   "metadata": {},
   "outputs": [],
   "source": [
    "scaler = StandardScaler()\n",
    "X_train = scaler.fit_transform(X_train)\n",
    "X_test = scaler.transform(X_test)"
   ]
  },
  {
   "cell_type": "code",
   "execution_count": 5,
   "id": "425478e7",
   "metadata": {},
   "outputs": [],
   "source": [
    "def initialize_weights(dim):\n",
    "  w = np.zeros_like(dim)\n",
    "  b = 0\n",
    "  return w,b"
   ]
  },
  {
   "cell_type": "code",
   "execution_count": 6,
   "id": "375ae5e3",
   "metadata": {},
   "outputs": [
    {
     "name": "stdout",
     "output_type": "stream",
     "text": [
      "w = [0. 0. 0. 0. 0. 0. 0. 0. 0. 0. 0. 0. 0. 0. 0.]\n",
      "b = 0\n"
     ]
    }
   ],
   "source": [
    "dim=X_train[0]\n",
    "w,b = initialize_weights(dim)\n",
    "\n",
    "print('w =',(w)) \n",
    "print('b =',str(b)) "
   ]
  },
  {
   "cell_type": "code",
   "execution_count": 8,
   "id": "6ec4fb64",
   "metadata": {},
   "outputs": [],
   "source": [
    "def sigmoid(z):\n",
    "  return 1/(1+np.exp(-z))"
   ]
  },
  {
   "cell_type": "code",
   "execution_count": 9,
   "id": "54c36ac1",
   "metadata": {},
   "outputs": [],
   "source": [
    "def logloss(y_true,y_pred):  \n",
    "  summation = 0\n",
    "\n",
    "  for i in range(len(y_true)):\n",
    "    \n",
    "    summation += (y_true[i] * np.log10(y_pred[i])) + ((1 - y_true[i]) * np.log10(1 - y_pred[i]))\n",
    "  \n",
    "  \n",
    "  loss = -1 * (1/len(y_true)) * summation\n",
    "  \n",
    "  return loss"
   ]
  },
  {
   "cell_type": "code",
   "execution_count": 11,
   "id": "0e491495",
   "metadata": {},
   "outputs": [],
   "source": [
    "def gradient_dw(x,y,w,b,alpha,N):\n",
    "  dw = x * (y - sigmoid(np.dot(w,x) + b)) - ((alpha/N) * w)\n",
    "  return dw"
   ]
  },
  {
   "cell_type": "code",
   "execution_count": 12,
   "id": "2fb48a88",
   "metadata": {},
   "outputs": [],
   "source": [
    "def gradient_db(x,y,w,b):\n",
    "   db = y - sigmoid(np.dot(w,x) + b)\n",
    "   return db"
   ]
  },
  {
   "cell_type": "code",
   "execution_count": 13,
   "id": "40b6097e",
   "metadata": {},
   "outputs": [],
   "source": [
    "\n",
    "def custom_lr(X_train,y_train,X_test,y_test,epochs,alpha,eta):\n",
    "  train_loss, test_loss = [], []\n",
    "\n",
    "\n",
    "  w,b = initialize_weights(X_train[0])\n",
    "\n",
    "  for i in range(epochs):\n",
    "    \n",
    "    train_prediction, test_prediction = [], []\n",
    "\n",
    "    for j in range(len(X_train)):\n",
    "      \n",
    "      dw = gradient_dw(X_train[j], y_train[j], w, b, alpha, len(X_train))\n",
    "      db = gradient_db(X_train[j], y_train[j], w, b)\n",
    "\n",
    "      w += (eta * dw)\n",
    "      b += (eta * db)\n",
    "\n",
    "    for train_datapoint in range(len(X_train)):\n",
    "      \n",
    "      train_prediction.append(sigmoid(np.dot(w, X_train[train_datapoint]) + b))\n",
    "      \n",
    "    loss_for_train = logloss(y_train, train_prediction)\n",
    "\n",
    "\n",
    "    train_loss.append(loss_for_train) \n",
    "\n",
    "    for test_datapoint in range(len(X_test)):\n",
    "      \n",
    "      test_prediction.append(sigmoid(np.dot(w, X_test[test_datapoint]) + b))\n",
    "      \n",
    "    \n",
    "    loss_for_test = logloss(y_test, test_prediction)\n",
    "    \n",
    "    test_loss.append(loss_for_test)\n",
    "    \n",
    "\n",
    "  return w,b,train_loss,test_loss "
   ]
  },
  {
   "cell_type": "code",
   "execution_count": 15,
   "id": "7aae54e3",
   "metadata": {},
   "outputs": [],
   "source": [
    "alpha=0.0001 \n",
    "eta=0.0001\n",
    "epochs=15\n",
    "\n",
    "w,b,log_loss_train,log_loss_test=custom_lr(X_train,y_train,X_test,y_test,epochs,alpha,eta)"
   ]
  },
  {
   "cell_type": "code",
   "execution_count": null,
   "id": "4bd8e9a8",
   "metadata": {},
   "outputs": [],
   "source": []
  },
  {
   "cell_type": "code",
   "execution_count": 19,
   "id": "eb0bf0f5",
   "metadata": {},
   "outputs": [
    {
     "data": {
      "image/png": "[encoded data removed]",
      "text/plain": [
       "<Figure size 432x288 with 1 Axes>"
      ]
     },
     "metadata": {
      "needs_background": "light"
     },
     "output_type": "display_data"
    }
   ],
   "source": [
    "x = [i for i in range(1,16,1)] \n",
    "\n",
    "plt.plot(x, log_loss_train, label='train log loss') \n",
    "plt.plot(x, log_loss_test, label='test log loss')\n",
    "\n",
    "plt.xlabel('epoch number')\n",
    "plt.ylabel('log-loss')\n",
    "plt.title('Train Log-loss VS Test Log-loss')\n",
    "plt.grid()\n",
    "plt.legend()\n",
    "plt.show()"
   ]
  },
  {
   "cell_type": "code",
   "execution_count": 20,
   "id": "1a54dd80",
   "metadata": {},
   "outputs": [
    {
     "name": "stdout",
     "output_type": "stream",
     "text": [
      "Accuracy score for Train data is - \n",
      "0.9506666666666667\n",
      "Accuracy score for Test data is - \n",
      "0.94768\n"
     ]
    }
   ],
   "source": [
    "def pred(w,b, X):\n",
    "    \n",
    "    N = len(X)\n",
    "    \n",
    "    predict = [] \n",
    "\n",
    "    for i in range(N):     \n",
    "        z=np.dot(w,X[i])+b\n",
    "        \n",
    "        if sigmoid(z) >= 0.5: \n",
    "            predict.append(1) \n",
    "\n",
    "        else:\n",
    "            predict.append(0) \n",
    "\n",
    "            \n",
    "    return np.array(predict)\n",
    "\n",
    "\n",
    "print('Accuracy score for Train data is - ')\n",
    "\n",
    "print(1-np.sum(y_train - pred(w,b,X_train))/len(X_train))\n",
    "\n",
    "print('Accuracy score for Test data is - ')\n",
    "\n",
    "print(1-np.sum(y_test  - pred(w,b,X_test))/len(X_test)) "
   ]
  },
  {
   "cell_type": "code",
   "execution_count": null,
   "id": "b778cbbe",
   "metadata": {},
   "outputs": [],
   "source": []
  },
  {
   "cell_type": "code",
   "execution_count": null,
   "id": "68c82c97",
   "metadata": {},
   "outputs": [],
   "source": []
  },
  {
   "cell_type": "code",
   "execution_count": null,
   "id": "3c78e7e9",
   "metadata": {},
   "outputs": [],
   "source": []
  },
  {
   "cell_type": "code",
   "execution_count": null,
   "id": "7454917d",
   "metadata": {},
   "outputs": [],
   "source": []
  },
  {
   "cell_type": "code",
   "execution_count": null,
   "id": "58ef81b1",
   "metadata": {},
   "outputs": [],
   "source": []
  },
  {
   "cell_type": "code",
   "execution_count": null,
   "id": "7c749a25",
   "metadata": {},
   "outputs": [],
   "source": []
  },
  {
   "cell_type": "code",
   "execution_count": null,
   "id": "36606391",
   "metadata": {},
   "outputs": [],
   "source": []
  },
  {
   "cell_type": "code",
   "execution_count": null,
   "id": "1477c6bd",
   "metadata": {},
   "outputs": [],
   "source": []
  },
  {
   "cell_type": "code",
   "execution_count": null,
   "id": "e4db5388",
   "metadata": {},
   "outputs": [],
   "source": []
  },
  {
   "cell_type": "code",
   "execution_count": null,
   "id": "cfbcb016",
   "metadata": {},
   "outputs": [],
   "source": []
  },
  {
   "cell_type": "code",
   "execution_count": null,
   "id": "6897dfe3",
   "metadata": {},
   "outputs": [],
   "source": []
  },
  {
   "cell_type": "code",
   "execution_count": null,
   "id": "e32dc599",
   "metadata": {},
   "outputs": [],
   "source": []
  },
  {
   "cell_type": "code",
   "execution_count": null,
   "id": "d6e3ee40",
   "metadata": {},
   "outputs": [],
   "source": []
  },
  {
   "cell_type": "code",
   "execution_count": null,
   "id": "b6f7ad70",
   "metadata": {},
   "outputs": [],
   "source": []
  },
  {
   "cell_type": "code",
   "execution_count": null,
   "id": "82ceb648",
   "metadata": {},
   "outputs": [],
   "source": []
  },
  {
   "cell_type": "code",
   "execution_count": null,
   "id": "5b675aaa",
   "metadata": {},
   "outputs": [],
   "source": []
  },
  {
   "cell_type": "code",
   "execution_count": null,
   "id": "1450e6f3",
   "metadata": {},
   "outputs": [],
   "source": []
  },
  {
   "cell_type": "code",
   "execution_count": null,
   "id": "e076698a",
   "metadata": {},
   "outputs": [],
   "source": []
  },
  {
   "cell_type": "code",
   "execution_count": null,
   "id": "b7f99932",
   "metadata": {},
   "outputs": [],
   "source": []
  },
  {
   "cell_type": "code",
   "execution_count": null,
   "id": "4be6f5d2",
   "metadata": {},
   "outputs": [],
   "source": []
  },
  {
   "cell_type": "code",
   "execution_count": null,
   "id": "de0617b4",
   "metadata": {},
   "outputs": [],
   "source": []
  }
 ],
 "metadata": {
  "kernelspec": {
   "display_name": "Python 3 (ipykernel)",
   "language": "python",
   "name": "python3"
  },
  "language_info": {
   "codemirror_mode": {
    "name": "ipython",
    "version": 3
   },
   "file_extension": ".py",
   "mimetype": "text/x-python",
   "name": "python",
   "nbconvert_exporter": "python",
   "pygments_lexer": "ipython3",
   "version": "3.9.7"
  }
 },
 "nbformat": 4,
 "nbformat_minor": 5
}
