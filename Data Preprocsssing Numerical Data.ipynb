{
 "cells": [
  {
   "cell_type": "code",
   "execution_count": null,
   "id": "e104615f",
   "metadata": {},
   "outputs": [],
   "source": []
  },
  {
   "cell_type": "code",
   "execution_count": 5,
   "id": "8f0f285e",
   "metadata": {},
   "outputs": [
    {
     "name": "stdout",
     "output_type": "stream",
     "text": [
      "Basic information about the dataset:\n",
      "<class 'pandas.core.frame.DataFrame'>\n",
      "Int64Index: 443 entries, 46109 to 26945\n",
      "Data columns (total 7 columns):\n",
      " #   Column       Non-Null Count  Dtype  \n",
      "---  ------       --------------  -----  \n",
      " 0   loan_type    443 non-null    object \n",
      " 1   loan_amount  443 non-null    int64  \n",
      " 2   repaid       443 non-null    int64  \n",
      " 3   loan_id      443 non-null    int64  \n",
      " 4   loan_start   443 non-null    object \n",
      " 5   loan_end     443 non-null    object \n",
      " 6   rate         443 non-null    float64\n",
      "dtypes: float64(1), int64(3), object(3)\n",
      "memory usage: 27.7+ KB\n",
      "None\n",
      "\n",
      "Summary statistics for numerical columns:\n",
      "        loan_amount      repaid       loan_id        rate\n",
      "count    443.000000  443.000000    443.000000  443.000000\n",
      "mean    7982.311512    0.534989  11017.101580    3.217156\n",
      "std     4172.891992    0.499338    581.826222    2.397168\n",
      "min      559.000000    0.000000  10009.000000    0.010000\n",
      "25%     4232.500000    0.000000  10507.500000    1.220000\n",
      "50%     8320.000000    1.000000  11033.000000    2.780000\n",
      "75%    11739.000000    1.000000  11526.000000    4.750000\n",
      "max    14971.000000    1.000000  11991.000000   12.620000\n",
      "\n",
      "First few rows of the dataset:\n",
      "          loan_type  loan_amount  repaid  loan_id  loan_start    loan_end  \\\n",
      "client_id                                                                   \n",
      "46109          home        13672       0    10243  2002-04-16  2003-12-20   \n",
      "46109        credit         9794       0    10984  2003-10-21  2005-07-17   \n",
      "46109          home        12734       1    10990  2006-02-01  2007-07-05   \n",
      "46109          cash        12518       1    10596  2010-12-08  2013-05-05   \n",
      "46109        credit        14049       1    11415  2010-07-07  2012-05-21   \n",
      "\n",
      "           rate  \n",
      "client_id        \n",
      "46109      2.15  \n",
      "46109      1.25  \n",
      "46109      0.68  \n",
      "46109      1.24  \n",
      "46109      3.13  \n"
     ]
    },
    {
     "data": {
      "image/png": "[encoded data removed]",
      "text/plain": [
       "<Figure size 432x288 with 1 Axes>"
      ]
     },
     "metadata": {
      "needs_background": "light"
     },
     "output_type": "display_data"
    },
    {
     "data": {
      "image/png": "[encoded data removed]",
      "text/plain": [
       "<Figure size 432x288 with 1 Axes>"
      ]
     },
     "metadata": {
      "needs_background": "light"
     },
     "output_type": "display_data"
    },
    {
     "name": "stdout",
     "output_type": "stream",
     "text": [
      "loan_type      0\n",
      "loan_amount    0\n",
      "repaid         0\n",
      "loan_id        0\n",
      "loan_start     0\n",
      "loan_end       0\n",
      "rate           0\n",
      "SQRT_RATE      0\n",
      "sqrt_rate      0\n",
      "dtype: int64\n",
      "\n",
      "Medians for Y Train and Y Test variables:\n",
      "The median for Y Train variables is: 8360.5\n",
      "The median for Y Test variables is: 7813.0\n"
     ]
    }
   ],
   "source": [
    "import pandas as pd\n",
    "from matplotlib import pyplot as plt\n",
    "import seaborn as sns\n",
    "import numpy as np\n",
    "from sklearn.preprocessing import StandardScaler, MinMaxScaler, OneHotEncoder, LabelEncoder\n",
    "from sklearn.model_selection import train_test_split\n",
    "\n",
    "\n",
    "import warnings\n",
    "warnings.filterwarnings(\"ignore\")\n",
    "\n",
    "\n",
    "df = pd.read_csv('dataset_for_ml.csv', index_col='client_id')\n",
    "\n",
    "\n",
    "print(\"Basic information about the dataset:\")\n",
    "print(df.info())\n",
    "\n",
    "print(\"\\nSummary statistics for numerical columns:\")\n",
    "print(df.describe())\n",
    "\n",
    "print(\"\\nFirst few rows of the dataset:\")\n",
    "print(df.head())\n",
    "\n",
    "# Convert data types\n",
    "df['loan_id'] = df['loan_id'].astype('object')\n",
    "df['repaid'] = df['repaid'].astype('category')\n",
    "df['loan_start'] = pd.to_datetime(df['loan_start'], format='%Y-%m-%d')\n",
    "df['loan_end'] = pd.to_datetime(df['loan_end'], format='%Y-%m-%d')\n",
    "\n",
    "# Summary Statistics for Numerical data:\n",
    "df.describe()\n",
    "\n",
    "# Summary Statistics for Categorical data:\n",
    "df.describe(exclude=[np.number])\n",
    "\n",
    "# use isnull().sum() to check for missing values \n",
    "df.isnull().sum() \n",
    "\n",
    "# For loan_amount \n",
    "df['loan_amount'].plot(kind='box')\n",
    "plt.show()\n",
    "\n",
    "# For rate \n",
    "df['rate'].plot(kind='box')\n",
    "plt.show()\n",
    "\n",
    "df['SQRT_RATE'] = df['rate']**0.5\n",
    "\n",
    "df['sqrt_rate'] = np.sqrt(df['rate'])\n",
    "\n",
    "df.head()\n",
    "\n",
    "\n",
    "\n",
    "# Checking missing values\n",
    "print(df.isnull().sum())\n",
    "\n",
    "# Handling Outliers using Z-score\n",
    "avg_rate = df['rate'].mean()\n",
    "std_rate = df['rate'].std()\n",
    "df['Z_Score_Rate'] = (df['rate'] - avg_rate) / std_rate\n",
    "df_cleaned_zscore = df[(df['Z_Score_Rate'] > -3) & (df['Z_Score_Rate'] < 3)].copy()\n",
    "\n",
    "# Handling Outliers using IQR\n",
    "Q1 = df['rate'].quantile(0.25)\n",
    "Q3 = df['rate'].quantile(0.75)\n",
    "IQR = Q3 - Q1\n",
    "LC = Q1 - (1.5 * IQR)\n",
    "UC = Q3 + (1.5 * IQR)\n",
    "df_cleaned_iqr = df[(df['rate'] > LC) & (df['rate'] < UC)].copy()\n",
    "\n",
    "# Scaling using Z-score\n",
    "scaler = StandardScaler()\n",
    "df_scaled = df[['loan_amount', 'rate']]\n",
    "df_scaled = pd.DataFrame(scaler.fit_transform(df_scaled), columns=df_scaled.columns)\n",
    "\n",
    "# Scaling using Min-Max\n",
    "minmax_scaler = MinMaxScaler()\n",
    "df_minmax_scaled = pd.DataFrame(minmax_scaler.fit_transform(df[['loan_amount', 'rate']]), columns=['loan_amount', 'rate'])\n",
    "\n",
    "\n",
    "\n",
    "# Label Encoding\n",
    "label_encoder = LabelEncoder()\n",
    "df['loan_type_encoded'] = label_encoder.fit_transform(df['loan_type'])\n",
    "\n",
    "# Train-Test Split\n",
    "X_train, X_test, Y_train, Y_test = train_test_split(df[['repaid', 'loan_start', 'loan_end', 'loan_type_encoded']], df['loan_amount'], train_size=0.8, random_state=0)\n",
    "\n",
    "# Median calculation\n",
    "median_y_train = Y_train.median()\n",
    "median_y_test = Y_test.median()\n",
    "\n",
    "print(\"\\nMedians for Y Train and Y Test variables:\")\n",
    "print('The median for Y Train variables is:', median_y_train)\n",
    "print('The median for Y Test variables is:', median_y_test)"
   ]
  },
  {
   "cell_type": "code",
   "execution_count": 6,
   "id": "96889949",
   "metadata": {},
   "outputs": [
    {
     "name": "stdout",
     "output_type": "stream",
     "text": [
      "The skewness of the original data is 0.884204614329943\n",
      "The skewness of the SQRT transformed data is 0.04964154055528862\n",
      "\n",
      "The kurtosis of the original data is 0.4243716514373652\n",
      "The kurtosis of the SQRT transformed data is -0.6318437642052039\n"
     ]
    },
    {
     "data": {
      "image/png": "[encoded data removed]",
      "text/plain": [
       "<Figure size 1080x360 with 2 Axes>"
      ]
     },
     "metadata": {
      "needs_background": "light"
     },
     "output_type": "display_data"
    }
   ],
   "source": [
    "#checking the skewness, kurtosis between the original and transformed data:\n",
    "print(\"The skewness of the original data is {}\".format(df.rate.skew()))\n",
    "print('The skewness of the SQRT transformed data is {}'.format(df.SQRT_RATE.skew()))\n",
    "\n",
    "print('')\n",
    "\n",
    "print(\"The kurtosis of the original data is {}\".format(df.rate.kurt()))\n",
    "print(\"The kurtosis of the SQRT transformed data is {}\".format(df.SQRT_RATE.kurt()))\n",
    "\n",
    "# plotting the distribution\n",
    "\n",
    "fig, axes = plt.subplots(1,2, figsize=(15,5))\n",
    "sns.distplot(df['rate'], ax=axes[0])\n",
    "sns.distplot(df['sqrt_rate'], ax=axes[1])\n",
    "\n",
    "plt.show()"
   ]
  },
  {
   "cell_type": "code",
   "execution_count": null,
   "id": "062bfd68",
   "metadata": {},
   "outputs": [],
   "source": []
  },
  {
   "cell_type": "code",
   "execution_count": null,
   "id": "2ce33b95",
   "metadata": {},
   "outputs": [],
   "source": []
  },
  {
   "cell_type": "code",
   "execution_count": null,
   "id": "47444534",
   "metadata": {},
   "outputs": [],
   "source": []
  },
  {
   "cell_type": "code",
   "execution_count": null,
   "id": "4dc8f65d",
   "metadata": {},
   "outputs": [],
   "source": []
  },
  {
   "cell_type": "code",
   "execution_count": null,
   "id": "89c47230",
   "metadata": {},
   "outputs": [],
   "source": []
  },
  {
   "cell_type": "code",
   "execution_count": null,
   "id": "5e5e8367",
   "metadata": {},
   "outputs": [],
   "source": []
  },
  {
   "cell_type": "code",
   "execution_count": null,
   "id": "dff80991",
   "metadata": {},
   "outputs": [],
   "source": []
  },
  {
   "cell_type": "code",
   "execution_count": null,
   "id": "e088f80e",
   "metadata": {},
   "outputs": [],
   "source": []
  },
  {
   "cell_type": "code",
   "execution_count": null,
   "id": "74f6df81",
   "metadata": {},
   "outputs": [],
   "source": []
  },
  {
   "cell_type": "code",
   "execution_count": null,
   "id": "3ecd9b4c",
   "metadata": {},
   "outputs": [],
   "source": []
  },
  {
   "cell_type": "code",
   "execution_count": null,
   "id": "95ec06db",
   "metadata": {},
   "outputs": [],
   "source": []
  },
  {
   "cell_type": "code",
   "execution_count": null,
   "id": "e8135f3a",
   "metadata": {},
   "outputs": [],
   "source": []
  },
  {
   "cell_type": "code",
   "execution_count": null,
   "id": "eb8ea694",
   "metadata": {},
   "outputs": [],
   "source": []
  },
  {
   "cell_type": "code",
   "execution_count": null,
   "id": "126a1933",
   "metadata": {},
   "outputs": [],
   "source": []
  },
  {
   "cell_type": "code",
   "execution_count": null,
   "id": "0a8fa015",
   "metadata": {},
   "outputs": [],
   "source": []
  },
  {
   "cell_type": "code",
   "execution_count": null,
   "id": "e68f8b9f",
   "metadata": {},
   "outputs": [],
   "source": []
  },
  {
   "cell_type": "code",
   "execution_count": null,
   "id": "24449ce7",
   "metadata": {},
   "outputs": [],
   "source": []
  },
  {
   "cell_type": "code",
   "execution_count": null,
   "id": "f04d2b21",
   "metadata": {},
   "outputs": [],
   "source": []
  },
  {
   "cell_type": "code",
   "execution_count": null,
   "id": "19d5804d",
   "metadata": {},
   "outputs": [],
   "source": []
  },
  {
   "cell_type": "code",
   "execution_count": null,
   "id": "dc5ad345",
   "metadata": {},
   "outputs": [],
   "source": []
  },
  {
   "cell_type": "code",
   "execution_count": null,
   "id": "96c11e0a",
   "metadata": {},
   "outputs": [],
   "source": []
  },
  {
   "cell_type": "code",
   "execution_count": null,
   "id": "432cd894",
   "metadata": {},
   "outputs": [],
   "source": []
  },
  {
   "cell_type": "code",
   "execution_count": null,
   "id": "4f9da8c4",
   "metadata": {},
   "outputs": [],
   "source": []
  },
  {
   "cell_type": "code",
   "execution_count": null,
   "id": "3335a2a2",
   "metadata": {},
   "outputs": [],
   "source": []
  },
  {
   "cell_type": "code",
   "execution_count": null,
   "id": "7a66f0f6",
   "metadata": {},
   "outputs": [],
   "source": []
  },
  {
   "cell_type": "code",
   "execution_count": null,
   "id": "9422e7dc",
   "metadata": {},
   "outputs": [],
   "source": []
  }
 ],
 "metadata": {
  "kernelspec": {
   "display_name": "Python 3 (ipykernel)",
   "language": "python",
   "name": "python3"
  },
  "language_info": {
   "codemirror_mode": {
    "name": "ipython",
    "version": 3
   },
   "file_extension": ".py",
   "mimetype": "text/x-python",
   "name": "python",
   "nbconvert_exporter": "python",
   "pygments_lexer": "ipython3",
   "version": "3.9.7"
  }
 },
 "nbformat": 4,
 "nbformat_minor": 5
}
